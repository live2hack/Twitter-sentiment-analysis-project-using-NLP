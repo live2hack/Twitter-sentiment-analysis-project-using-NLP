{
 "cells": [
  {
   "cell_type": "code",
   "execution_count": 141,
   "metadata": {
    "collapsed": true
   },
   "outputs": [],
   "source": [
    "import pandas as pd\n",
    "import numpy as np\n",
    "from sklearn.feature_extraction.text import CountVectorizer\n",
    "from nltk.stem import WordNetLemmatizer\n",
    "from nltk.corpus import stopwords\n",
    "from nltk.corpus import wordnet\n",
    "from nltk import pos_tag\n",
    "import string"
   ]
  },
  {
   "cell_type": "code",
   "execution_count": 2,
   "metadata": {
    "collapsed": true
   },
   "outputs": [],
   "source": [
    "data = pd.read_csv(\"data/twitter_sentiment_x_y_train.csv\")"
   ]
  },
  {
   "cell_type": "code",
   "execution_count": 200,
   "metadata": {},
   "outputs": [],
   "source": [
    "#data.head(5)"
   ]
  },
  {
   "cell_type": "code",
   "execution_count": 144,
   "metadata": {},
   "outputs": [
    {
     "data": {
      "text/plain": [
       "(10980, 12)"
      ]
     },
     "execution_count": 144,
     "metadata": {},
     "output_type": "execute_result"
    }
   ],
   "source": [
    "#data.shape"
   ]
  },
  {
   "cell_type": "code",
   "execution_count": 104,
   "metadata": {
    "collapsed": true
   },
   "outputs": [],
   "source": [
    "x_test=pd.read_csv(\"data/twitter_sentiment_x_test.csv\")"
   ]
  },
  {
   "cell_type": "markdown",
   "metadata": {},
   "source": [
    "# Data Cleaning Phase"
   ]
  },
  {
   "cell_type": "code",
   "execution_count": 110,
   "metadata": {},
   "outputs": [
    {
     "name": "stdout",
     "output_type": "stream",
     "text": [
      "['@AmericanAir', 'In', 'car', 'gng', 'to', 'DFW.', 'Pulled', 'over', '1hr', 'ago', '-', 'very', 'icy', 'roads.', 'On-hold', 'with', 'AA', 'since', '1hr.', \"Can't\", 'reach', 'arpt', 'for', 'AA2450.', 'Wat', '2', 'do?']\n"
     ]
    }
   ],
   "source": [
    "tweets_test=[tweet for tweet in x_test['text']] #created list of tweets for testing data\n",
    "tweets_test_tokenized=[tweet.split()for tweet in tweets_test] # splitted into words\n",
    "print(tweets_test_tokenized[0]) # just checking"
   ]
  },
  {
   "cell_type": "code",
   "execution_count": 26,
   "metadata": {
    "collapsed": true
   },
   "outputs": [],
   "source": [
    "# reforming training data"
   ]
  },
  {
   "cell_type": "code",
   "execution_count": 85,
   "metadata": {
    "collapsed": true
   },
   "outputs": [],
   "source": [
    "tweets_train=[tweet for tweet in data['text']] #created list of tweets for training data\n",
    "sentiments_train=[sentiment for sentiment in data['airline_sentiment']] # created list of y_class (sentiment)\n",
    "tweets_tokenized=[tweet.split()for tweet in tweets_train] # splitted into words"
   ]
  },
  {
   "cell_type": "markdown",
   "metadata": {},
   "source": [
    "#NLTK"
   ]
  },
  {
   "cell_type": "code",
   "execution_count": 91,
   "metadata": {
    "collapsed": true
   },
   "outputs": [],
   "source": [
    "lemmatizer = WordNetLemmatizer() # object created of WordNetLemmatizer"
   ]
  },
  {
   "cell_type": "markdown",
   "metadata": {},
   "source": [
    "Simple Function to get pos_tags that can be passed as a parameter to lemmatizer"
   ]
  },
  {
   "cell_type": "code",
   "execution_count": 90,
   "metadata": {
    "collapsed": true
   },
   "outputs": [],
   "source": [
    "def get_simple_pos(tag):\n",
    "    \n",
    "    if tag.startswith('J'):\n",
    "        return wordnet.ADJ\n",
    "    elif tag.startswith('V'):\n",
    "        return wordnet.VERB\n",
    "    elif tag.startswith('N'):\n",
    "        return wordnet.NOUN\n",
    "    elif tag.startswith('R'):\n",
    "        return wordnet.ADV\n",
    "    else:\n",
    "        return wordnet.NOUN"
   ]
  },
  {
   "cell_type": "markdown",
   "metadata": {},
   "source": [
    "Stop Words and Punctuations (to be removed)"
   ]
  },
  {
   "cell_type": "code",
   "execution_count": 93,
   "metadata": {
    "collapsed": true
   },
   "outputs": [],
   "source": [
    "stops = set(stopwords.words('english'))\n",
    "punctuations = list(string.punctuation)\n",
    "stops.update(punctuations)"
   ]
  },
  {
   "cell_type": "markdown",
   "metadata": {},
   "source": [
    "Function to clean the words of every tweet using  lemmatizer"
   ]
  },
  {
   "cell_type": "code",
   "execution_count": 94,
   "metadata": {
    "collapsed": true
   },
   "outputs": [],
   "source": [
    "def clean(words):\n",
    "    output_words = []\n",
    "    for w in words:\n",
    "        if w.lower() not in stops:\n",
    "            pos = pos_tag([w])\n",
    "            clean_word = lemmatizer.lemmatize(w, pos = get_simple_pos(pos[0][1]))\n",
    "            output_words.append(clean_word.lower())\n",
    "    return output_words"
   ]
  },
  {
   "cell_type": "markdown",
   "metadata": {},
   "source": [
    "Cleaned and stored the tweets of training in tweets_tokenized"
   ]
  },
  {
   "cell_type": "code",
   "execution_count": null,
   "metadata": {
    "collapsed": true
   },
   "outputs": [],
   "source": [
    "tweets_tokenized=[clean(tweet) for tweet in tweets_tokenized]\n",
    "#dont run currently"
   ]
  },
  {
   "cell_type": "markdown",
   "metadata": {},
   "source": [
    "Cleaned and stored the tweets of testing in tweets_test_tokenized\n",
    "Also noted the time."
   ]
  },
  {
   "cell_type": "code",
   "execution_count": 111,
   "metadata": {},
   "outputs": [
    {
     "name": "stdout",
     "output_type": "stream",
     "text": [
      "-695.8841910362244\n"
     ]
    }
   ],
   "source": [
    "import time\n",
    "start=time.time()\n",
    "tweets_test_tokenized=[clean(tweet) for tweet in tweets_test_tokenized]\n",
    "#works fine\n",
    "print(start-time.time())"
   ]
  },
  {
   "cell_type": "code",
   "execution_count": 97,
   "metadata": {},
   "outputs": [
    {
     "name": "stdout",
     "output_type": "stream",
     "text": [
      "['@southwestair', 'schedule', 'morning,', '2', 'day', 'fact,', 'yes..not', 'sure', 'even', 'flight', 'one', 'cancelled', 'flightled']\n"
     ]
    }
   ],
   "source": [
    "print(tweets_tokenized[0])"
   ]
  },
  {
   "cell_type": "markdown",
   "metadata": {},
   "source": [
    "Reformatted to be passed into Countvectorizer"
   ]
  },
  {
   "cell_type": "code",
   "execution_count": 201,
   "metadata": {},
   "outputs": [],
   "source": [
    "tweets_train_text_format=[\" \".join(tweet) for tweet in tweets_tokenized]\n",
    "tweets_test_text_format=[\" \".join(tweet) for tweet in tweets_test_tokenized]\n",
    "#tweets_test_tokenized"
   ]
  },
  {
   "cell_type": "markdown",
   "metadata": {},
   "source": [
    "Passed  to CountVectorizer with optimal parameters to convert into sklearn_oriented x_train,y_train sparses matrix format"
   ]
  },
  {
   "cell_type": "code",
   "execution_count": 263,
   "metadata": {},
   "outputs": [
    {
     "name": "stdout",
     "output_type": "stream",
     "text": [
      "[[0 0 0 ..., 0 0 0]\n",
      " [0 0 0 ..., 1 0 0]\n",
      " [0 0 0 ..., 0 0 0]\n",
      " ..., \n",
      " [0 0 0 ..., 0 0 0]\n",
      " [0 0 0 ..., 0 0 0]\n",
      " [0 0 0 ..., 0 0 0]]\n"
     ]
    }
   ],
   "source": [
    "count_vec = CountVectorizer(max_features = 2000,ngram_range=(1, 3),max_df=0.8)\n",
    "x_train_features = count_vec.fit_transform(tweets_train_text_format)\n",
    "print(x_train_features.todense())"
   ]
  },
  {
   "cell_type": "code",
   "execution_count": 247,
   "metadata": {},
   "outputs": [
    {
     "name": "stdout",
     "output_type": "stream",
     "text": [
      "['000', '10', '10 min', '100', '11', '12', '12 hour', '13', '14', '15', '16', '17', '18', '19', '1hr', '1k', '1st', '1st class', '20', '20 min', '20 minute', '200', '2015', '21', '22', '23', '24', '24 hour', '24hrs', '25', '25 min', '26', '27', '2hrs', '2nd', '2nd time', '2x', '30', '30 min', '30 minute', '35', '36', '3rd', '40', '40 min', '40 minute', '400', '45', '45 min', '45 minute', '50', '500', '60', '70', '700', '728', '75', '7am', '800', '800 number', '90', 'aa', 'able', 'able get', 'absolute', 'absolutely', 'absurd', 'accept', 'acceptable', 'access', 'accommodate', 'account', 'acct', 'act', 'actual', 'actually', 'add', 'additional', 'address', 'advantage', 'advise', 'advisory', 'afternoon', 'again', 'age', 'agent', 'agents', 'ago', 'ah', 'ahead', 'air', 'aircraft', 'airfare', 'airline', 'airline cancelled', 'airline ever', 'airlines', 'airplane', 'airport', 'airway', 'airways', 'alert', 'all', 'allow', 'almost', 'almost hour', 'alone', 'along', 'already', 'also', 'alternate', 'although', 'always', 'am', 'amaze', 'amazing', 'america', 'american', 'american airlines', 'americanair', 'americanair bad', 'americanair call', 'americanair can', 'americanair cancelled', 'americanair cancelled flightled', 'americanair customer', 'americanair flight', 'americanair flight cancelled', 'americanair get', 'americanair go', 'americanair great', 'americanair guy', 'americanair help', 'americanair hey', 'americanair hi', 'americanair know', 'americanair need', 'americanair ok', 'americanair one', 'americanair please', 'americanair really', 'americanair still', 'americanair thank', 'americanair thank you', 'americanair thanks', 'americanair that', 'americanair try', 'americanair understand', 'americanair usairways', 'americanair ve', 'americanair wait', 'americanair way', 'americanair we', 'americanair would', 'americanair yes', 'americanairlines', 'amount', 'amp', 'amp get', 'and', 'angry', 'announce', 'announcement', 'another', 'another airline', 'another flight', 'another hour', 'answer', 'answer phone', 'answers', 'anymore', 'anyone', 'anything', 'anyway', 'anywhere', 'apologize', 'apology', 'app', 'apparently', 'appear', 'appease', 'apply', 'appreciate', 'appreciated', 'april', 'are', 'area', 'around', 'arrival', 'arrive', 'arrived', 'arrives', 'as', 'asap', 'ask', 'asked', 'assign', 'assist', 'assistance', 'atl', 'atlanta', 'attempt', 'attendant', 'attendants', 'attitude', 'aus', 'austin', 'auto', 'automate', 'automatically', 'avail', 'available', 'avgeek', 'avoid', 'award', 'aware', 'away', 'awesome', 'awful', 'baby', 'back', 'back gate', 'back home', 'back late', 'back late flightr', 'bad', 'bad airline', 'bad customer', 'bad customer service', 'bad experience', 'bad weather', 'badcustomerservice', 'badservice', 'bag', 'bag flight', 'bag lose', 'baggage', 'baggage claim', 'bags', 'bank', 'base', 'bathroom', 'bc', 'bday', 'bdl', 'be', 'beautiful', 'become', 'before', 'begin', 'behind', 'believe', 'best', 'best airline', 'bet', 'better', 'beyond', 'big', 'bin', 'birthday', 'bit', 'blame', 'blue', 'bna', 'board', 'boarded', 'boarding', 'boarding pas', 'boarding pass', 'book', 'book flight', 'book ticket', 'booked', 'booking', 'booking problems', 'booking problems flight', 'bos', 'boston', 'bother', 'bought', 'brand', 'break', 'bring', 'broke', 'broken', 'brother', 'bs', 'btw', 'buf', 'buffalo', 'bumped', 'bus', 'business', 'business class', 'busy', 'but', 'buy', 'bwi', 'cab', 'cabin', 'call', 'call back', 'call back late', 'call center', 'call customer', 'call customer service', 'call get', 'call volume', 'callback', 'called', 'calls', 'can', 'can book', 'can dm', 'can even', 'can find', 'can get', 'can seem', 'can wait', 'cancelled', 'cancelled flight', 'cancelled flight flight', 'cancelled flighted', 'cancelled flighted flight', 'cancelled flighting', 'cancelled flighting flight', 'cancelled flightlation', 'cancelled flightlations', 'cancelled flightled', 'cancelled flightled flight', 'cancelled flightling', 'cancelled flights', 'cannot', 'cant', 'captain', 'car', 'car seat', 'card', 'care', 'carousel', 'carrier', 'carry', 'carry on', 'case', 'catch', 'catering', 'cause', 'cause miss', 'cc', 'center', 'ceo', 'chairman', 'chance', 'chance get', 'change', 'change fee', 'change flight', 'changed', 'changes', 'charge', 'charlotte', 'cheap', 'cheaper', 'check', 'check bag', 'check flight', 'check in', 'checked', 'checked bag', 'checkin', 'chi', 'chicago', 'child', 'choice', 'choose', 'city', 'claim', 'class', 'cle', 'clean', 'clear', 'clearly', 'client', 'close', 'clothes', 'clt', 'club', 'clue', 'cmh', 'co', 'coat', 'code', 'coffee', 'cold', 'columbus', 'com', 'come', 'come back', 'come on', 'commercial', 'communication', 'comp', 'companion', 'companion pas', 'company', 'compensate', 'compensation', 'complain', 'complaint', 'complete', 'completely', 'computer', 'concern', 'concerned', 'condition', 'conf', 'confirm', 'confirmation', 'confirmation number', 'congrats', 'connect', 'connect flight', 'connection', 'connections', 'consider', 'contact', 'continue', 'control', 'cool', 'corporate', 'correct', 'cost', 'could', 'could get', 'could use', 'count', 'counter', 'counting', 'country', 'couple', 'course', 'courtesy', 'cover', 'crap', 'crappy', 'crazy', 'credit', 'credit card', 'crew', 'cross', 'cross country', 'cs', 'cun', 'current', 'currently', 'cust', 'cust service', 'customer', 'customer care', 'customer relation', 'customer service', 'customer service ever', 'customer service rep', 'customers', 'customerservice', 'cut', 'dad', 'daily', 'dal', 'dallas', 'damage', 'damn', 'date', 'daughter', 'day', 'day late', 'days', 'dc', 'dca', 'de', 'dead', 'deal', 'death', 'decide', 'decision', 'definitely', 'degree', 'delay', 'delay flight', 'delayed', 'delayed cancelled', 'delayed due', 'delayed flight', 'delayed hour', 'delayed hours', 'delays', 'deliver', 'delivery', 'delta', 'den', 'denver', 'deny', 'depart', 'department', 'departure', 'departure time', 'deplane', 'dept', 'deserves', 'design', 'desk', 'despite', 'destination', 'destinationdragons', 'detail', 'details', 'dfw', 'dfwairport', 'did', 'die', 'diego', 'diff', 'difference', 'different', 'direct', 'direct flight', 'disappointed', 'disappointment', 'disaster', 'disconnect', 'disconnected', 'discount', 'dividend', 'dividend miles', 'dm', 'dm confirmation', 'dm sent', 'dm you', 'do', 'dog', 'dollar', 'domestic', 'don', 'done', 'dont', 'door', 'double', 'down', 'dragon', 'drink', 'drive', 'drop', 'due', 'due mechanical', 'due weather', 'earlier', 'earlier flight', 'early', 'earn', 'east', 'easy', 'eat', 'economy', 'effort', 'either', 'elite', 'else', 'email', 'email address', 'emergency', 'employee', 'employees', 'empty', 'end', 'engine', 'enjoy', 'enough', 'enter', 'entertainment', 'entire', 'equipment', 'error', 'especially', 'etc', 'even', 'even though', 'eventually', 'ever', 'every', 'every time', 'everyone', 'everything', 'ewr', 'exactly', 'excellent', 'except', 'excite', 'excuse', 'exit', 'exit row', 'expect', 'expensive', 'experience', 'experience ever', 'experienced', 'expire', 'explain', 'explanation', 'extend', 'extra', 'extremely', 'face', 'fact', 'fail', 'failure', 'fair', 'fall', 'family', 'fan', 'fantastic', 'far', 'fare', 'fast', 'faster', 'fault', 'favorite', 'feature', 'feb', 'february', 'fee', 'feedback', 'feel', 'feel like', 'fees', 'fight', 'figure', 'file', 'fill', 'final', 'finally', 'finally get', 'find', 'fine', 'fingers', 'first', 'first class', 'first flight', 'first time', 'fit', 'five', 'fix', 'fixed', 'fl', 'fleek', 'fleek http', 'fleek http co', 'fleet', 'fleet fleek', 'fleet fleek http', 'flew', 'flight', 'flight amp', 'flight arrive', 'flight attendant', 'flight attendants', 'flight back', 'flight book', 'flight booking', 'flight booking problems', 'flight can', 'flight cancelled', 'flight cancelled flighted', 'flight cancelled flightled', 'flight change', 'flight crew', 'flight day', 'flight delay', 'flight delayed', 'flight due', 'flight even', 'flight experience', 'flight flight', 'flight get', 'flight get cancelled', 'flight go', 'flight home', 'flight hour', 'flight http', 'flight http co', 'flight info', 'flight jfk', 'flight late', 'flight leave', 'flight make', 'flight please', 'flight reservation', 'flight schedule', 'flight sfo', 'flight still', 'flight time', 'flight today', 'flight tomorrow', 'flight tonight', 'flight without', 'flight yesterday', 'flightation', 'flightd', 'flighted', 'flighted flight', 'flighting', 'flighting flight', 'flightlation', 'flightlations', 'flightled', 'flightled flight', 'flightling', 'flightr', 'flightr still', 'flights', 'fll', 'florida', 'flown', 'flt', 'fly', 'fly again', 'fly airline', 'fly guy', 'fly jetblue', 'fly southwest', 'fly united', 'flyer', 'flyfi', 'flying', 'folk', 'follow', 'follow back', 'follow dm', 'follow me', 'follow up', 'food', 'for', 'force', 'forever', 'forget', 'forgot', 'form', 'fort', 'forward', 'found', 'four', 'free', 'freeze', 'frequent', 'frequent flyer', 'friday', 'friend', 'friendly', 'front', 'frozen', 'frustrate', 'frustrated', 'frustrating', 'frustration', 'fuck', 'fuel', 'full', 'fun', 'funeral', 'funny', 'future', 'fyi', 'game', 'gate', 'gate agent', 'get', 'get another', 'get anyone', 'get back', 'get bag', 'get call', 'get call back', 'get cancelled', 'get cancelled flightled', 'get email', 'get flight', 'get gate', 'get help', 'get hold', 'get home', 'get hung', 'get it', 'get luggage', 'get message', 'get new', 'get phone', 'get plane', 'get rebooked', 'get refund', 'get stuck', 'get through', 'get thru', 'get ticket', 'get together', 'give', 'gives', 'glad', 'global', 'go', 'go back', 'go home', 'go miss', 'go on', 'god', 'going', 'gold', 'gonna', 'good', 'good luck', 'good work', 'got', 'gotta', 'gotten', 'great', 'great customer', 'great customer service', 'great flight', 'great job', 'great service', 'great thank', 'great thank you', 'ground', 'ground crew', 'group', 'gt', 'guess', 'guy', 'guy rock', 'guys', 'ha', 'had', 'haha', 'half', 'half hour', 'hand', 'handle', 'hang', 'hang up', 'happen', 'happened', 'happens', 'happy', 'hard', 'hate', 'have', 'hawaii', 'he', 'head', 'hear', 'heard', 'hearing', 'heart', 'held', 'hell', 'hello', 'help', 'help flight', 'help get', 'help me', 'help out', 'help please', 'help rebook', 'helpful', 'here', 'hey', 'hi', 'high', 'hire', 'hit', 'hold', 'hold 30', 'hold hour', 'hold hours', 'hold hr', 'home', 'honest', 'honor', 'hop', 'hope', 'hopefully', 'hoping', 'horrible', 'hot', 'hotel', 'hour', 'hour ago', 'hour delay', 'hour delayed', 'hour flight', 'hour get', 'hour half', 'hour hold', 'hour late', 'hour late flight', 'hour late flightr', 'hour now', 'hour wait', 'hours', 'houston', 'how', 'however', 'hr', 'hr late', 'hrs', 'http', 'http co', 'https', 'https co', 'huge', 'human', 'hundred', 'hung', 'hung on', 'husband', 'iad', 'iah', 'ice', 'id', 'idea', 'im', 'imagine', 'imaginedragons', 'important', 'impossible', 'impressed', 'in', 'in flight', 'include', 'incompetence', 'incompetent', 'inconvenience', 'incredibly', 'infant', 'inflight', 'info', 'inform', 'information', 'inside', 'instead', 'international', 'international flight', 'internet', 'intl', 'iphone', 'is', 'issue', 'issues', 'it', 'it thanks', 'item', 'itinerary', 'jan', 'jb', 'jblu', 'jet', 'jet blue', 'jetblue', 'jetblue airways', 'jetblue can', 'jetblue ceo', 'jetblue fleet', 'jetblue fleet fleek', 'jetblue flight', 'jetblue get', 'jetblue go', 'jetblue great', 'jetblue guy', 'jetblue hey', 'jetblue love', 'jetblue thank', 'jetblue thank you', 'jetblue thanks', 'jetblue that', 'jetblue try', 'jetblue want', 'jetblue well', 'jetblue what', 'jetblue would', 'jetblue yes', 'jetway', 'jfk', 'job', 'joke', 'journal', 'juan', 'just', 'keep', 'keep get', 'keep good', 'keep good work', 'kept', 'kid', 'kids', 'kill', 'kind', 'knew', 'know', 'kudos', 'la', 'lack', 'lady', 'land', 'landed', 'landing', 'large', 'las', 'last', 'last flight', 'last night', 'last time', 'last week', 'last year', 'late', 'late flight', 'late flightr', 'late flightr still', 'lax', 'layover', 'lead', 'learn', 'least', 'leave', 'left', 'leg', 'legroom', 'less', 'let', 'let down', 'let know', 'letter', 'level', 'lga', 'lhr', 'lie', 'life', 'like', 'likely', 'line', 'link', 'list', 'listen', 'literally', 'little', 'live', 'll', 'load', 'locate', 'log', 'logan', 'lol', 'long', 'long take', 'long wait', 'longer', 'look', 'look forward', 'look like', 'looking', 'looking forward', 'looks', 'looks like', 'lose', 'lose bag', 'lose luggage', 'lost', 'lot', 'lots', 'lounge', 'love', 'love fly', 'love_dragonss', 'lovely', 'low', 'loyal', 'loyal customer', 'lt', 'lt lt', 'luck', 'luggage', 'luv', 'mad', 'made', 'mail', 'maintenance', 'major', 'make', 'make change', 'make connection', 'make flight', 'make it', 'make miss', 'make right', 'make sure', 'makes', 'man', 'manage', 'management', 'manager', 'many', 'march', 'mark', 'match', 'matter', 'may', 'maybe', 'mco', 'mdw', 'me', 'meal', 'mean', 'mechanical', 'mechanical issue', 'media', 'medium', 'meeting', 'member', 'mention', 'merge', 'merger', 'mess', 'message', 'met', 'mexico', 'mia', 'miami', 'middle', 'middle seat', 'midnight', 'might', 'mile', 'mileage', 'mileageplus', 'miles', 'military', 'min', 'min hold', 'min late', 'mind', 'mine', 'mins', 'mint', 'minute', 'minute ago', 'minute hold', 'minute wait', 'minutes', 'miss', 'miss connect', 'miss connect flight', 'miss connection', 'miss flight', 'missed', 'missing', 'mistake', 'mke', 'mobile', 'mom', 'moment', 'mon', 'monday', 'money', 'month', 'month ago', 'more', 'morning', 'mother', 'move', 'movie', 'msg', 'much', 'multiple', 'music', 'must', 'name', 'nashville', 'nc', 'near', 'nearly', 'need', 'need change', 'need get', 'need help', 'never', 'never again', 'never fly', 'never fly again', 'never get', 'neveragain', 'new', 'new flight', 'new york', 'newark', 'news', 'next', 'next day', 'next flight', 'next time', 'next week', 'nice', 'night', 'nightmare', 'no', 'nobody', 'non', 'non stop', 'none', 'nonstop', 'nope', 'not', 'note', 'nothing', 'notice', 'notification', 'notify', 'now', 'number', 'number call', 'ny', 'nyc', 'obviously', 'of', 'off', 'offer', 'offering', 'office', 'officially', 'oh', 'ok', 'okay', 'old', 'omg', 'on', 'on time', 'onboard', 'one', 'one answer', 'one hour', 'one way', 'online', 'onto', 'open', 'opportunity', 'option', 'options', 'or', 'ord', 'order', 'original', 'original flight', 'originally', 'orlando', 'oscars', 'others', 'otherwise', 'out', 'outside', 'outstanding', 'over', 'overbooked', 'overhead', 'overnight', 'page', 'paid', 'parent', 'part', 'partner', 'party', 'pas', 'pass', 'passbook', 'passenger', 'passengers', 'past', 'pathetic', 'patience', 'pay', 'pbi', 'pdx', 'people', 'per', 'perfect', 'perhaps', 'person', 'personal', 'philadelphia', 'philly', 'phl', 'phlairport', 'phoenix', 'phone', 'phone call', 'phone line', 'phone number', 'phones', 'photo', 'phx', 'pic', 'pick', 'pick phone', 'picked', 'picture', 'pilot', 'pilots', 'pit', 'place', 'plan', 'plane', 'plane get', 'plane hour', 'planes', 'planning', 'plans', 'platinum', 'play', 'pleasant', 'please', 'please follow', 'please get', 'please help', 'plenty', 'pls', 'pls help', 'plus', 'plz', 'pm', 'point', 'points', 'police', 'policy', 'poor', 'poor customer', 'poor customer service', 'position', 'possible', 'post', 'power', 'ppl', 'pr', 'pre', 'prefer', 'premier', 'pretty', 'previous', 'price', 'prior', 'priority', 'probably', 'problem', 'problems', 'problems flight', 'process', 'professional', 'program', 'promise', 'promo', 'prompt', 'provide', 'public', 'pull', 'purchase', 'push', 'put', 'put hold', 'quality', 'question', 'quick', 'quick response', 'quickly', 'raise', 'rapid', 'rate', 'rather', 'rdu', 're', 'reach', 'read', 'ready', 'real', 'real person', 'realize', 'really', 'really need', 'reason', 'rebook', 'rebook cancelled', 'rebook flight', 'rebooked', 'receipt', 'receive', 'record', 'red', 'redeem', 'reflight', 'reflight booking', 'reflight booking problems', 'refund', 'refuse', 'regard', 'reimburse', 'reimbursement', 'relate', 'relate flightd', 'relation', 'remember', 'rental', 'rep', 'reply', 'report', 'representative', 'request', 'require', 'reschedule', 'reschedule flight', 'reservation', 'reservations', 'reserve', 'resolution', 'resolve', 'resolved', 'respect', 'respond', 'response', 'result', 'retrieve', 'return', 'return flight', 'reward', 'ride', 'ridiculous', 'right', 'right now', 'rock', 'room', 'round', 'round trip', 'route', 'row', 'rt', 'rt jetblue', 'rt jetblue fleet', 'rude', 'ruin', 'run', 'runway', 'sad', 'safe', 'safely', 'safety', 'said', 'sale', 'same', 'san', 'san diego', 'san juan', 'sat', 'saturday', 'save', 'saw', 'say', 'say flight', 'say would', 'schedule', 'screen', 'screw', 'sea', 'seat', 'seats', 'seattle', 'second', 'security', 'see', 'seem', 'seem like', 'seems', 'select', 'sell', 'send', 'sense', 'sent', 'sent dm', 'serious', 'seriously', 'serve', 'service', 'service agent', 'service ever', 'service line', 'service rep', 'service today', 'set', 'several', 'several time', 'sf', 'sfo', 'shame', 'share', 'shit', 'short', 'shout', 'show', 'shuttle', 'sick', 'side', 'sign', 'silver', 'simply', 'since', 'single', 'sister', 'sit', 'sit gate', 'sit plane', 'sit runway', 'sit tarmac', 'site', 'sitting', 'situation', 'sju', 'sky', 'slc', 'sleep', 'slow', 'small', 'smh', 'snack', 'snow', 'so', 'social', 'social medium', 'solution', 'solve', 'someone', 'something', 'somewhere', 'son', 'song', 'soon', 'sorry', 'sort', 'sound', 'south', 'southwest', 'southwestair', 'southwestair cancelled', 'southwestair could', 'southwestair customer', 'southwestair flight', 'southwestair flight cancelled', 'southwestair fly', 'southwestair follow', 'southwestair get', 'southwestair go', 'southwestair great', 'southwestair guy', 'southwestair hi', 'southwestair hold', 'southwestair know', 'southwestair love', 'southwestair need', 'southwestair oh', 'southwestair please', 'southwestair really', 'southwestair sent', 'southwestair thank', 'southwestair thank you', 'southwestair thanks', 'southwestair try', 'southwestair would', 'southwestair yes', 'space', 'speak', 'speak agent', 'speak someone', 'special', 'specific', 'speed', 'spend', 'spent', 'spoke', 'spot', 'st', 'staff', 'stand', 'standard', 'standby', 'star', 'start', 'state', 'status', 'status match', 'stay', 'step', 'stewardess', 'stick', 'still', 'still bag', 'still can', 'still get', 'still sit', 'still wait', 'still waiting', 'stl', 'stop', 'storm', 'story', 'straight', 'strand', 'stranded', 'street', 'stroller', 'stuck', 'stuff', 'submit', 'suck', 'sucks', 'suggest', 'sun', 'sunday', 'super', 'supervisor', 'support', 'suppose', 'suppose leave', 'sure', 'surprise', 'svc', 'sw', 'swa', 'sweet', 'switch', 'system', 'tag', 'take', 'take care', 'take flight', 'take hour', 'take off', 'takeoff', 'talk', 'talk someone', 'tampa', 'tarmac', 'taxi', 'team', 'tech', 'tell', 'tell flight', 'terminal', 'terrible', 'terrible customer', 'terrible customer service', 'terrible service', 'texas', 'text', 'thank', 'thank much', 'thank you', 'thanks', 'thanks get', 'thanks great', 'thanks help', 'thanks make', 'thanks much', 'thanks nothing', 'that', 'the', 'them', 'then', 'there', 'they', 'they re', 'they ve', 'thing', 'things', 'think', 'third', 'this', 'tho', 'though', 'thought', 'three', 'three hour', 'through', 'thru', 'thx', 'ticket', 'tickets', 'til', 'till', 'time', 'time amp', 'time flight', 'time fly', 'times', 'tire', 'tix', 'tmrw', 'to', 'today', 'together', 'told', 'told call', 'tomorrow', 'tomorrow cancelled', 'tomorrow morning', 'tonight', 'too', 'top', 'total', 'totally', 'touch', 'tough', 'tpa', 'track', 'traffic', 'train', 'training', 'transfer', 'travel', 'traveler', 'treat', 'treat customer', 'treatment', 'tried', 'trip', 'trouble', 'true', 'trueblue', 'truly', 'trust', 'try', 'try book', 'try call', 'try change', 'try check', 'try figure', 'try get', 'try make', 'try reach', 'trying', 'tsa', 'tsa pre', 'tuesday', 'turn', 'tv', 'tweet', 'twice', 'twitter', 'two', 'two day', 'two days', 'two hour', 'ty', 'type', 'ua', 'ugh', 'uk', 'unable', 'unacceptable', 'unbelievable', 'understand', 'unfortunately', 'unhappy', 'unhelpful', 'united', 'united agent', 'united airline', 'united airlines', 'united bad', 'united bag', 'united book', 'united can', 'united cancelled', 'united customer', 'united customer service', 'united delayed', 'united dm', 'united flight', 'united fly', 'united gate', 'united get', 'united go', 'united good', 'united great', 'united guy', 'united help', 'united hi', 'united hour', 'united know', 'united lose', 'united make', 'united need', 'united never', 'united no', 'united nope', 'united ok', 'united one', 'united please', 'united really', 'united sent', 'united still', 'united sure', 'united take', 'united thank', 'united thank you', 'united thanks', 'united that', 'united try', 'united want', 'united well', 'united what', 'united would', 'united yes', 'unitedairlines', 'up', 'update', 'update flight', 'upgrade', 'upgraded', 'upset', 'ur', 'us', 'us 728', 'us air', 'us airways', 'usa', 'usair', 'usairways', 'usairways americanair', 'usairways bad', 'usairways call', 'usairways can', 'usairways cancelled', 'usairways customer', 'usairways customer service', 'usairways flight', 'usairways get', 'usairways good', 'usairways help', 'usairways hold', 'usairways hold hour', 'usairways hour', 'usairways make', 'usairways need', 'usairways never', 'usairways ok', 'usairways phone', 'usairways please', 'usairways really', 'usairways still', 'usairways take', 'usairways thank', 'usairways thank you', 'usairways thanks', 'usairways told', 'usairways try', 'usairways us', 'usairways us 728', 'usairways ve', 'usairways ve hold', 'usairways what', 'usairways would', 'usairways yes', 'usairwaysfail', 'use', 'useless', 'usually', 'vacation', 've', 've call', 've ever', 've get', 've hold', 've never', 've try', 've wait', 'vegas', 'via', 'via dm', 'via twitter', 'video', 'view', 'virgin', 'virginamerica', 'virginamerica flight', 'virginamerica thanks', 'visit', 'volume', 'voucher', 'wait', 'wait bag', 'wait flight', 'wait hold', 'wait hour', 'wait time', 'waiting', 'waive', 'walk', 'wall', 'wall street', 'wanna', 'want', 'want get', 'warm', 'was', 'waste', 'waste time', 'watch', 'water', 'way', 'way get', 'we', 'we ll', 'we re', 'we ve', 'weather', 'weather relate', 'weather relate flightd', 'web', 'website', 'wedding', 'wednesday', 'week', 'week ago', 'weekend', 'weeks', 'welcome', 'well', 'what', 'what go', 'whats', 'wheel', 'wheelchair', 'where', 'whole', 'why', 'wife', 'wifi', 'will', 'willing', 'win', 'window', 'winter', 'wish', 'with', 'within', 'without', 'woman', 'wonder', 'wonderful', 'wont', 'word', 'words', 'work', 'working', 'world', 'worries', 'worry', 'worse', 'worst', 'worst customer', 'worst customer service', 'worth', 'would', 'would appreciate', 'would go', 'would help', 'would like', 'would love', 'would make', 'would nice', 'wow', 'write', 'wrong', 'wsj', 'wtf', 'ya', 'yall', 'yeah', 'year', 'year old', 'years', 'yep', 'yes', 'yes please', 'yesterday', 'yet', 'york', 'you', 'yr', 'zero']\n"
     ]
    }
   ],
   "source": [
    "print(count_vec.get_feature_names())"
   ]
  },
  {
   "cell_type": "code",
   "execution_count": 269,
   "metadata": {
    "collapsed": true
   },
   "outputs": [],
   "source": [
    "x_test_features = count_vec.transform(tweets_test_text_format)"
   ]
  },
  {
   "cell_type": "markdown",
   "metadata": {},
   "source": [
    "# CLASSIFICATION PHASE"
   ]
  },
  {
   "cell_type": "markdown",
   "metadata": {},
   "source": [
    "Using Random Forest Classifier"
   ]
  },
  {
   "cell_type": "code",
   "execution_count": 222,
   "metadata": {
    "collapsed": true
   },
   "outputs": [],
   "source": [
    "from sklearn.ensemble import RandomForestClassifier"
   ]
  },
  {
   "cell_type": "code",
   "execution_count": 223,
   "metadata": {},
   "outputs": [
    {
     "data": {
      "text/plain": [
       "RandomForestClassifier(bootstrap=True, class_weight=None, criterion='gini',\n",
       "            max_depth=None, max_features='auto', max_leaf_nodes=None,\n",
       "            min_impurity_decrease=0.0, min_impurity_split=None,\n",
       "            min_samples_leaf=1, min_samples_split=2,\n",
       "            min_weight_fraction_leaf=0.0, n_estimators=10, n_jobs=1,\n",
       "            oob_score=False, random_state=None, verbose=0,\n",
       "            warm_start=False)"
      ]
     },
     "execution_count": 223,
     "metadata": {},
     "output_type": "execute_result"
    }
   ],
   "source": [
    "rfc = RandomForestClassifier()\n",
    "rfc.fit(x_train_features, sentiments)"
   ]
  },
  {
   "cell_type": "markdown",
   "metadata": {},
   "source": [
    "Finding the optimal parameters"
   ]
  },
  {
   "cell_type": "code",
   "execution_count": 234,
   "metadata": {
    "collapsed": true
   },
   "outputs": [],
   "source": [
    "param_grid = {\n",
    "    'bootstrap': [True],\n",
    "    'max_depth': [80, 90, 100, 110],\n",
    "    'max_features': [2, 3],\n",
    "    'min_samples_leaf': [3, 4, 5],\n",
    "    'min_samples_split': [8, 10, 12],\n",
    "    'n_estimators': [100, 200, 300, 1000]\n",
    "}\n",
    "grid_search_rf = GridSearchCV(estimator = rfc, param_grid = param_grid, \n",
    "                          cv = 3, n_jobs = -1, verbose = 2)"
   ]
  },
  {
   "cell_type": "code",
   "execution_count": 236,
   "metadata": {},
   "outputs": [
    {
     "name": "stdout",
     "output_type": "stream",
     "text": [
      "Fitting 3 folds for each of 288 candidates, totalling 864 fits\n"
     ]
    },
    {
     "name": "stderr",
     "output_type": "stream",
     "text": [
      "[Parallel(n_jobs=-1)]: Done  33 tasks      | elapsed:  1.0min\n",
      "[Parallel(n_jobs=-1)]: Done 154 tasks      | elapsed:  2.8min\n",
      "[Parallel(n_jobs=-1)]: Done 357 tasks      | elapsed:  5.8min\n",
      "[Parallel(n_jobs=-1)]: Done 640 tasks      | elapsed: 10.2min\n",
      "[Parallel(n_jobs=-1)]: Done 864 out of 864 | elapsed: 13.9min finished\n"
     ]
    },
    {
     "data": {
      "text/plain": [
       "GridSearchCV(cv=3, error_score='raise',\n",
       "       estimator=RandomForestClassifier(bootstrap=True, class_weight=None, criterion='gini',\n",
       "            max_depth=None, max_features='auto', max_leaf_nodes=None,\n",
       "            min_impurity_decrease=0.0, min_impurity_split=None,\n",
       "            min_samples_leaf=1, min_samples_split=2,\n",
       "            min_weight_fraction_leaf=0.0, n_estimators=10, n_jobs=1,\n",
       "            oob_score=False, random_state=None, verbose=0,\n",
       "            warm_start=False),\n",
       "       fit_params=None, iid=True, n_jobs=-1,\n",
       "       param_grid={'bootstrap': [True], 'max_depth': [80, 90, 100, 110], 'max_features': [2, 3], 'min_samples_leaf': [3, 4, 5], 'min_samples_split': [8, 10, 12], 'n_estimators': [100, 200, 300, 1000]},\n",
       "       pre_dispatch='2*n_jobs', refit=True, return_train_score=True,\n",
       "       scoring=None, verbose=2)"
      ]
     },
     "execution_count": 236,
     "metadata": {},
     "output_type": "execute_result"
    }
   ],
   "source": [
    "grid_search_rf.fit(x_train_features, sentiments)"
   ]
  },
  {
   "cell_type": "code",
   "execution_count": 244,
   "metadata": {},
   "outputs": [
    {
     "name": "stdout",
     "output_type": "stream",
     "text": [
      "RandomForestClassifier(bootstrap=True, class_weight=None, criterion='gini',\n",
      "            max_depth=110, max_features=3, max_leaf_nodes=None,\n",
      "            min_impurity_decrease=0.0, min_impurity_split=None,\n",
      "            min_samples_leaf=3, min_samples_split=12,\n",
      "            min_weight_fraction_leaf=0.0, n_estimators=100, n_jobs=1,\n",
      "            oob_score=False, random_state=None, verbose=0,\n",
      "            warm_start=False)\n"
     ]
    }
   ],
   "source": [
    "best_grid = grid_search_rf.best_estimator_\n",
    "print(best_grid)"
   ]
  },
  {
   "cell_type": "markdown",
   "metadata": {},
   "source": [
    "Predictions by ensemble"
   ]
  },
  {
   "cell_type": "code",
   "execution_count": null,
   "metadata": {},
   "outputs": [],
   "source": [
    "y_pred_rf=grid_search_rf.predict(x_test_features)"
   ]
  },
  {
   "cell_type": "markdown",
   "metadata": {},
   "source": [
    "USING Support Vector Machine after Grid Search"
   ]
  },
  {
   "cell_type": "code",
   "execution_count": 266,
   "metadata": {},
   "outputs": [
    {
     "data": {
      "text/plain": [
       "GridSearchCV(cv=None, error_score='raise',\n",
       "       estimator=SVC(C=1.0, cache_size=200, class_weight=None, coef0=0.0,\n",
       "  decision_function_shape='ovr', degree=3, gamma='auto', kernel='rbf',\n",
       "  max_iter=-1, probability=False, random_state=None, shrinking=True,\n",
       "  tol=0.001, verbose=False),\n",
       "       fit_params=None, iid=True, n_jobs=1,\n",
       "       param_grid={'C': [100.0, 1000.0, 5000.0, 10000.0, 50000.0], 'gamma': [0.001, 0.0005, 0.0001]},\n",
       "       pre_dispatch='2*n_jobs', refit=True, return_train_score=True,\n",
       "       scoring=None, verbose=0)"
      ]
     },
     "execution_count": 266,
     "metadata": {},
     "output_type": "execute_result"
    }
   ],
   "source": [
    "from sklearn.svm import SVC\n",
    "from sklearn.model_selection import GridSearchCV\n",
    "abc = SVC()\n",
    "grid = {'C' : [1e2, 1e3, 5e3, 1e4, 5e4],\n",
    "       'gamma' : [1e-3, 5e-4, 1e-4]}\n",
    "svc = GridSearchCV(abc, grid)\n",
    "svc.fit(x_train_features, sentiments)"
   ]
  },
  {
   "cell_type": "code",
   "execution_count": 249,
   "metadata": {},
   "outputs": [
    {
     "name": "stdout",
     "output_type": "stream",
     "text": [
      "SVC(C=100.0, cache_size=200, class_weight=None, coef0=0.0,\n",
      "  decision_function_shape='ovr', degree=3, gamma=0.001, kernel='rbf',\n",
      "  max_iter=-1, probability=False, random_state=None, shrinking=True,\n",
      "  tol=0.001, verbose=False)\n"
     ]
    }
   ],
   "source": [
    "print(svc.best_estimator_)"
   ]
  },
  {
   "cell_type": "code",
   "execution_count": 270,
   "metadata": {},
   "outputs": [],
   "source": [
    "y_pred_sv=svc.predict(x_test_features)"
   ]
  },
  {
   "cell_type": "markdown",
   "metadata": {},
   "source": [
    "Storing  the results in different csv files"
   ]
  },
  {
   "cell_type": "code",
   "execution_count": 271,
   "metadata": {},
   "outputs": [],
   "source": [
    "np.savetxt('twitter_sentiment_pred_svm.csv', y_pred_sv , delimiter=\" \", fmt=\"%s\")"
   ]
  },
  {
   "cell_type": "code",
   "execution_count": null,
   "metadata": {},
   "outputs": [],
   "source": [
    "np.savetxt('twitter_sentiment_pred_rf.csv', y_pred_rf , delimiter=\" \", fmt=\"%s\")"
   ]
  },
  {
   "cell_type": "markdown",
   "metadata": {},
   "source": [
    "Random Forest came out to be really well, 0.76 accuracy without  grid-search but overfitted way too much after the grid search and ended up giving only 0.67 accuracy.\n",
    "On the other hand svc gave 0.45 accuracy without grid search and 0.77 after grid search and cross validation."
   ]
  },
  {
   "cell_type": "code",
   "execution_count": null,
   "metadata": {
    "collapsed": true
   },
   "outputs": [],
   "source": []
  }
 ],
 "metadata": {
  "kernelspec": {
   "display_name": "Python 3",
   "language": "python",
   "name": "python3"
  },
  "language_info": {
   "codemirror_mode": {
    "name": "ipython",
    "version": 3
   },
   "file_extension": ".py",
   "mimetype": "text/x-python",
   "name": "python",
   "nbconvert_exporter": "python",
   "pygments_lexer": "ipython3",
   "version": "3.6.2"
  }
 },
 "nbformat": 4,
 "nbformat_minor": 2
}
